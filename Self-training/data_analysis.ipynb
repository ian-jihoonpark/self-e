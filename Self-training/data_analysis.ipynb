{
 "cells": [
  {
   "cell_type": "code",
   "execution_count": 11,
   "metadata": {},
   "outputs": [],
   "source": [
    "import json, os, random\n",
    "from tqdm import tqdm\n",
    "from PIL import Image\n",
    "\n",
    "import torch\n",
    "from torch.utils.data import DataLoader\n",
    "import torchvision.transforms as transforms\n",
    "\n",
    "from pytorch_lightning import LightningDataModule\n",
    "from transformers import GPT2Tokenizer, AutoFeatureExtractor\n",
    "import utils"
   ]
  },
  {
   "cell_type": "code",
   "execution_count": 22,
   "metadata": {},
   "outputs": [],
   "source": [
    "visual_backbone = \"microsoft/swin-base-patch4-window7-224-in22k\"\n",
    "lm_backbone = \"distilgpt2\"\n",
    "train_anno_dir = \"/media/storage/coco/VQA-X/annotated/vqaX_val.json\"\n",
    "image_dir = \"/media/storage/coco/\"\n",
    "fewshot_num = 1.0\n",
    "mode = \"teacher\"\n",
    "seed = 42\n",
    "max_seq_length = 40\n"
   ]
  },
  {
   "cell_type": "code",
   "execution_count": 13,
   "metadata": {},
   "outputs": [],
   "source": [
    "img_transform = AutoFeatureExtractor.from_pretrained(visual_backbone)\n",
    "tokenizer = GPT2Tokenizer.from_pretrained(lm_backbone)\n",
    "num_new_tokens = tokenizer.add_special_tokens({'pad_token': '<pad>','additional_special_tokens': ['<question>', '<answer>', '<explanation>']})"
   ]
  },
  {
   "cell_type": "code",
   "execution_count": 23,
   "metadata": {},
   "outputs": [],
   "source": [
    "     \n",
    "data = json.load(open(train_anno_dir, 'r'))\n",
    "ids_list = list(data.keys())\n",
    "\n",
    "for k,v in data.items():   \n",
    "    if len(v['explanation']) > 1:   # some questions have more than one explanation\n",
    "        # duplicate them for loading. -1 because one explanation is already in ids_list\n",
    "        ids_list += [str(k)] * (len(v['explanation']) - 1)    \n",
    "\n",
    "index_tracker = {k: len(v['explanation']) - 1 for k,v in data.items()}\n",
    "\n",
    "quention_id = ids_list[0]\n",
    "sample = data[quention_id]\n",
    "img_name = sample['image_name']\n",
    "text_a = utils.proc_ques(sample['question'])    # question\n",
    "answer = utils.proc_ans(sample['answers'])\n",
    "\n",
    "exp_idx = index_tracker[quention_id]    # the index of the explanation for questions with multiple explanations\n",
    "if exp_idx > 0:\n",
    "    index_tracker[quention_id] -= 1    # decrease usage\n",
    "        \n",
    "text_b = sample['explanation'][exp_idx]   # explanation\n",
    "\n",
    "# tokenization process\n",
    "q_segment_id, a_segment_id, e_segment_id = tokenizer.convert_tokens_to_ids(['<question>', \n",
    "                                                                                    '<answer>', \n",
    "                                                                                    '<explanation>'])\n",
    "tokens = tokenizer.tokenize(text_a)\n",
    "labels = [-100] * len(tokens)   # we dont want to predict the question, set to pad to ignore in XE\n",
    "segment_ids = [q_segment_id] * len(tokens)\n",
    "\n",
    "answer = [tokenizer.bos_token] + tokenizer.tokenize(\" the answer is \" + answer)\n",
    "answer_len = len(answer)\n",
    "tokens_b = tokenizer.tokenize(\" because \" + text_b) + [tokenizer.eos_token]\n",
    "exp_len = len(tokens_b)\n",
    "tokens += answer + tokens_b\n",
    "labels += [-100] + answer[1:] + tokens_b   # labels will be shifted in the model, so for now set them same as tokens\n",
    "segment_ids += [a_segment_id] * answer_len\n",
    "segment_ids += [e_segment_id] * exp_len\n",
    "\n",
    "if len(tokens) > max_seq_length :\n",
    "    tokens = tokens[:max_seq_length]\n",
    "    labels = labels[:max_seq_length]\n",
    "    segment_ids = segment_ids[:max_seq_length]\n",
    "\n",
    "\n",
    "assert len(tokens) == len(segment_ids) \n",
    "assert len(tokens) == len(labels)\n",
    "\n",
    "seq_len = len(tokens)\n",
    "padding_len = max_seq_length - seq_len\n",
    "tokens = tokens + ([tokenizer.pad_token] * padding_len)\n",
    "labels = labels + ([-100] * padding_len)\n",
    "\n",
    "segment_ids += ([e_segment_id] * padding_len)\n",
    "input_ids = tokenizer.convert_tokens_to_ids(tokens)\n",
    "input_ids = torch.tensor(input_ids, dtype=torch.long)\n",
    "\n",
    "labels = [tokenizer.convert_tokens_to_ids(t) if t!=-100 else t for t in labels]\n",
    "labels = torch.tensor(labels, dtype=torch.long)\n",
    "\n",
    "segment_ids = torch.tensor(segment_ids, dtype=torch.long)\n",
    "qid = torch.LongTensor([int(quention_id)])\n"
   ]
  },
  {
   "cell_type": "code",
   "execution_count": 42,
   "metadata": {},
   "outputs": [],
   "source": [
    "\n",
    "test_anno_dir = \"/media/storage/coco/VQA-X/annotated/vqaX_test.json\"\n",
    "data = json.load(open(test_anno_dir, 'r'))\n",
    "ids_list = list(data.keys())\n",
    "quention_id = ids_list[0]\n",
    "sample = data[quention_id]\n",
    "img_name = sample['image_name']\n",
    "text_a = utils.proc_ques(sample['question'])    # question\n",
    "\n",
    "# tokenization process\n",
    "q_segment_id, a_segment_id, e_segment_id = tokenizer.convert_tokens_to_ids(['<question>', '<answer>', '<explanation>'])\n",
    "tokens = tokenizer.tokenize(text_a)\n",
    "segment_ids = [q_segment_id] * len(tokens)\n",
    "\n",
    "answer = [tokenizer.bos_token] + tokenizer.tokenize(\" the answer is\")\n",
    "answer_len = len(answer)\n",
    "tokens += answer \n",
    "\n",
    "segment_ids += [a_segment_id] * answer_len\n",
    "\n",
    "input_ids = tokenizer.convert_tokens_to_ids(tokens)\n",
    "input_ids = torch.tensor(input_ids, dtype=torch.long)\n",
    "segment_ids = torch.tensor(segment_ids, dtype=torch.long)"
   ]
  },
  {
   "cell_type": "code",
   "execution_count": 43,
   "metadata": {},
   "outputs": [
    {
     "data": {
      "text/plain": [
       "'what is this<|endoftext|> the answer is'"
      ]
     },
     "execution_count": 43,
     "metadata": {},
     "output_type": "execute_result"
    }
   ],
   "source": [
    "tokenizer.decode(input_ids)"
   ]
  },
  {
   "cell_type": "code",
   "execution_count": 50,
   "metadata": {},
   "outputs": [
    {
     "data": {
      "text/plain": [
       "'<question> <question> <question> <answer> <answer> <answer> <answer>'"
      ]
     },
     "execution_count": 50,
     "metadata": {},
     "output_type": "execute_result"
    }
   ],
   "source": [
    "tokenizer.decode(segment_ids)"
   ]
  },
  {
   "cell_type": "code",
   "execution_count": 59,
   "metadata": {},
   "outputs": [
    {
     "data": {
      "text/plain": [
       "' the answer is yes because the same snowboarder is present many times<|endoftext|>'"
      ]
     },
     "execution_count": 59,
     "metadata": {},
     "output_type": "execute_result"
    }
   ],
   "source": [
    "tokenizer.decode(lb_mine2)"
   ]
  },
  {
   "cell_type": "code",
   "execution_count": 60,
   "metadata": {},
   "outputs": [],
   "source": [
    "cached_filename = f\"vqax_shot-500_teacher_pseudo_seed-42.cache\"\n",
    "datasets = torch.load(os.path.join(\"cached\", cached_filename))"
   ]
  },
  {
   "cell_type": "code",
   "execution_count": 63,
   "metadata": {},
   "outputs": [
    {
     "data": {
      "text/plain": [
       "'<question> <question> <question> <answer> <answer> <answer> <answer> <answer> <answer> <explanation> <explanation> <explanation>'"
      ]
     },
     "execution_count": 63,
     "metadata": {},
     "output_type": "execute_result"
    }
   ],
   "source": [
    "tokenizer.decode(datasets[0][\"segment_ids\"])"
   ]
  },
  {
   "cell_type": "code",
   "execution_count": 64,
   "metadata": {},
   "outputs": [
    {
     "data": {
      "text/plain": [
       "'what is this the answer is shower<|endoftext|> because '"
      ]
     },
     "execution_count": 64,
     "metadata": {},
     "output_type": "execute_result"
    }
   ],
   "source": [
    "tokenizer.decode(datasets[0][\"input_ids\"])"
   ]
  },
  {
   "cell_type": "code",
   "execution_count": 57,
   "metadata": {},
   "outputs": [],
   "source": [
    "lb_mine = [lb  for lb in datasets[0][\"labels\"] if lb != -100]\n",
    "lb_mine2 = [lb  for lb in labels if lb != -100]"
   ]
  },
  {
   "cell_type": "code",
   "execution_count": 58,
   "metadata": {},
   "outputs": [
    {
     "data": {
      "text/plain": [
       "'<|endoftext|> because the same snowboarder is present many times<|endoftext|>'"
      ]
     },
     "execution_count": 58,
     "metadata": {},
     "output_type": "execute_result"
    }
   ],
   "source": [
    "tokenizer.decode(lb_mine)"
   ]
  },
  {
   "cell_type": "code",
   "execution_count": 9,
   "metadata": {},
   "outputs": [
    {
     "data": {
      "text/plain": [
       "'Ġ'"
      ]
     },
     "execution_count": 9,
     "metadata": {},
     "output_type": "execute_result"
    }
   ],
   "source": [
    "tokenizer.convert_ids_to_tokens(220)"
   ]
  },
  {
   "cell_type": "code",
   "execution_count": 10,
   "metadata": {},
   "outputs": [
    {
     "data": {
      "text/plain": [
       "780"
      ]
     },
     "execution_count": 10,
     "metadata": {},
     "output_type": "execute_result"
    }
   ],
   "source": [
    "tokenizer.convert_tokens_to_ids('Ġbecause')"
   ]
  },
  {
   "cell_type": "code",
   "execution_count": 37,
   "metadata": {},
   "outputs": [],
   "source": [
    "anno = json.load(open(train_anno_dir, \"r\"))"
   ]
  },
  {
   "cell_type": "code",
   "execution_count": 5,
   "metadata": {},
   "outputs": [
    {
     "data": {
      "text/plain": [
       "'<|endoftext|>'"
      ]
     },
     "execution_count": 5,
     "metadata": {},
     "output_type": "execute_result"
    }
   ],
   "source": [
    "tokenizer.bos_token"
   ]
  },
  {
   "cell_type": "code",
   "execution_count": 38,
   "metadata": {},
   "outputs": [
    {
     "ename": "NameError",
     "evalue": "name 'get_dataset' is not defined",
     "output_type": "error",
     "traceback": [
      "\u001b[0;31m---------------------------------------------------------------------------\u001b[0m",
      "\u001b[0;31mNameError\u001b[0m                                 Traceback (most recent call last)",
      "\u001b[0;32m/tmp/ipykernel_38881/1524012680.py\u001b[0m in \u001b[0;36m<module>\u001b[0;34m\u001b[0m\n\u001b[1;32m      1\u001b[0m \u001b[0mdataset\u001b[0m \u001b[0;34m=\u001b[0m \u001b[0;34m{\u001b[0m\u001b[0;34m}\u001b[0m\u001b[0;34m\u001b[0m\u001b[0;34m\u001b[0m\u001b[0m\n\u001b[0;32m----> 2\u001b[0;31m \u001b[0mdataset\u001b[0m\u001b[0;34m[\u001b[0m\u001b[0;34m\"train\"\u001b[0m\u001b[0;34m]\u001b[0m \u001b[0;34m=\u001b[0m \u001b[0mget_dataset\u001b[0m\u001b[0;34m(\u001b[0m\u001b[0mtrain_anno\u001b[0m\u001b[0;34m,\u001b[0m \u001b[0mmode\u001b[0m\u001b[0;34m=\u001b[0m\u001b[0;34m\"train\"\u001b[0m\u001b[0;34m)\u001b[0m\u001b[0;34m\u001b[0m\u001b[0;34m\u001b[0m\u001b[0m\n\u001b[0m",
      "\u001b[0;31mNameError\u001b[0m: name 'get_dataset' is not defined"
     ]
    }
   ],
   "source": [
    "dataset = {}\n",
    "dataset[\"train\"] = get_dataset(train_anno, mode=\"train\")"
   ]
  },
  {
   "cell_type": "code",
   "execution_count": 39,
   "metadata": {},
   "outputs": [],
   "source": [
    "cached_filename = f\"vqax_shot-{fewshot_num}_{mode}_seed-{seed}.cache\""
   ]
  },
  {
   "cell_type": "code",
   "execution_count": 50,
   "metadata": {},
   "outputs": [],
   "source": [
    "ids_list = list(anno.keys())\n",
    "image_id = ids_list[0]\n",
    "index_tracker = {k: len(v['explanation']) - 1 for k,v in anno.items()}\n",
    "for k,v in anno.items():   \n",
    "    if len(v['explanation']) > 1:   # some questions have more than one explanation \n",
    "        ids_list += [str(k)] * (len(v['explanation']) - 1) # duplicate them for loading. -1 because one explanation is already in ids_list\n",
    "\n",
    "# Set image directory\n",
    "img_dir = image_dir + \"/val2014/\"\n",
    "datasets = []\n",
    "question_id = ids_list[0]\n",
    "sample = anno[question_id]\n",
    "img_name = sample['image_name']\n",
    "\n",
    "question_txt = utils.proc_ques(sample['question'])    # question\n",
    "answer_txt = utils.proc_ans(sample['answers'])\n",
    "exp_idx = index_tracker[question_id]\n",
    "explain_txt = sample['explanation'][exp_idx]"
   ]
  },
  {
   "cell_type": "code",
   "execution_count": 51,
   "metadata": {},
   "outputs": [],
   "source": [
    "if exp_idx > 0:\n",
    "    index_tracker[question_id] -= 1    # decrease usage\n",
    "# Image    \n",
    "img_path = img_dir + img_name\n",
    "img = img_transform(Image.open(img_path).convert(\"RGB\"), return_tensors=\"pt\").pixel_values"
   ]
  },
  {
   "cell_type": "code",
   "execution_count": 77,
   "metadata": {},
   "outputs": [],
   "source": [
    "\n",
    "student_input = f\"{question_txt}\"\n",
    "student_label = f\"the answer is {answer_txt} because {explain_txt}\"\n",
    "# question: [Q] reason: [E] -> the answer is [A]\n",
    "teacher_input = f\"{question_txt} the answer is {answer_txt}\"\n",
    "teacher_label = f\"because {explain_txt}\""
   ]
  },
  {
   "cell_type": "code",
   "execution_count": 53,
   "metadata": {},
   "outputs": [],
   "source": [
    "q_segment_id, a_segment_id, e_segment_id = tokenizer.convert_tokens_to_ids(['<question>', '<answer>', '<explanation>'])"
   ]
  },
  {
   "cell_type": "code",
   "execution_count": 54,
   "metadata": {},
   "outputs": [
    {
     "data": {
      "text/plain": [
       "50258"
      ]
     },
     "execution_count": 54,
     "metadata": {},
     "output_type": "execute_result"
    }
   ],
   "source": [
    "q_segment_id"
   ]
  },
  {
   "cell_type": "code",
   "execution_count": 78,
   "metadata": {},
   "outputs": [],
   "source": [
    "# student\n",
    "student_input = tokenizer.tokenize(student_input)\n",
    "labels2 = [-100] * len(student_input)   # we dont want to predict the question, set to pad to ignore in XE\n",
    "segment_ids = [q_segment_id] * len(student_input)\n",
    "\n",
    "answer = [tokenizer.bos_token] + tokenizer.tokenize(\" the answer is \" + answer_txt)\n",
    "answer_len = len(answer)\n",
    "explanation = tokenizer.tokenize(\" because \" + explain_txt) + [tokenizer.eos_token]\n",
    "exp_len = len(explanation)\n",
    "output = answer + explanation\n",
    "student_input += output\n",
    "labels2 += [-100] + output[1:]  # labels will be shifted in the model, so for now set them same as tokens\n",
    "segment_ids += [a_segment_id] * answer_len\n",
    "segment_ids += [e_segment_id] * exp_len"
   ]
  },
  {
   "cell_type": "code",
   "execution_count": 79,
   "metadata": {},
   "outputs": [
    {
     "data": {
      "text/plain": [
       "True"
      ]
     },
     "execution_count": 79,
     "metadata": {},
     "output_type": "execute_result"
    }
   ],
   "source": [
    "labels1 == labels2"
   ]
  },
  {
   "cell_type": "code",
   "execution_count": 66,
   "metadata": {},
   "outputs": [],
   "source": [
    "# student\n",
    "question = tokenizer.tokenize(f\"{question_txt} \")\n",
    "q_len = len(question)\n",
    "answer = tokenizer.tokenize(f\"the answer is {answer_txt}\")\n",
    "a_len = len(answer)\n",
    "\n",
    "student_input = question + answer\n",
    "labels = [-100] * (q_len + a_len)   # we dont want to predict the question, set to pad to ignore in XE\n",
    "segment_ids = [q_segment_id] *q_len + [a_segment_id] * a_len\n",
    "\n",
    "explanation = [tokenizer.bos_token] + tokenizer.tokenize(\" because \" + explain_txt) + [tokenizer.eos_token]\n",
    "exp_len = len(explanation)\n",
    "\n",
    "\n",
    "student_input += explanation\n",
    "labels += [-100] + explanation[1:]   # labels will be shifted in the model, so for now set them same as tokens\n",
    "segment_ids += [e_segment_id] * exp_len"
   ]
  },
  {
   "cell_type": "code",
   "execution_count": 82,
   "metadata": {},
   "outputs": [],
   "source": [
    "datasets = []\n",
    "stage = \"student\"\n",
    "\n",
    "question_token = tokenizer.tokenize(f\"{question_txt}\")\n",
    "q_len = len(question)\n",
    "answer_token = tokenizer.tokenize(f\"the answer is {answer_txt}\")\n",
    "a_len = len(answer)\n",
    "explanation_token = [tokenizer.bos_token] + tokenizer.tokenize(\" because \" + explain_txt) + [tokenizer.eos_token]\n",
    "exp_len = len(explanation)\n",
    "\n",
    "if stage == \"student\":\n",
    "    input = question_token\n",
    "    answer = [tokenizer.bos_token] + answer_token\n",
    "    explanation = explanation_token + [tokenizer.eos_token]\n",
    "    segment_ids = [q_segment_id] * len(question) + [a_segment_id] * len(answer) + [e_segment_id] * len(explanation)\n",
    "    \n",
    "elif stage == \"teacher\":\n",
    "    input = question_token + answer_token\n",
    "    output = [tokenizer.bos_token] + explanation_token + [tokenizer.eos_token]\n",
    "    segment_ids = [q_segment_id] * len(question) + [a_segment_id] * len(answer) + [e_segment_id] * len(output)\n",
    "    \n",
    "    \n",
    "else:\n",
    "    raise NotImplementedError\n",
    "\n",
    "input += output\n",
    "labels = [-100] * len(input) + [-100] + output[1:] # labels will be shifted in the model, so for now set them same as tokens\n",
    "\n",
    "\n",
    "# # paddding\n",
    "# seq_len = len(input)\n",
    "# padding_len = max_seq_length - seq_len\n",
    "# input = input + ([tokenizer.pad_token] * padding_len)\n",
    "# labels = labels + ([-100] * padding_len)\n",
    "# segment_ids += ([e_segment_id] * padding_len)\n",
    "\n",
    "# token -> ids\n",
    "input_ids = tokenizer.convert_tokens_to_ids(input)\n",
    "\n",
    "input_ids = torch.tensor(input_ids, dtype=torch.long)\n",
    "\n",
    "labels = [tokenizer.convert_tokens_to_ids(t) if t!=-100 else t for t in labels]\n",
    "labels = torch.tensor(labels, dtype=torch.long)\n",
    "\n",
    "segment_ids = torch.tensor(segment_ids, dtype=torch.long)\n",
    "\n",
    "# image\n",
    "if mode==\"train\":\n",
    "    img_dir = image_dir + \"/train2014/\"\n",
    "else:\n",
    "    img_dir = image_dir + \"val2014/\"\n",
    "img = Image.open(img_dir+img_name).convert('RGB')\n",
    "img = img_transform(img)\n",
    "qid = torch.LongTensor([int(image_id)])\n",
    "\n",
    "datasets.append((input_ids, labels, segment_ids, img))    \n"
   ]
  },
  {
   "cell_type": "code",
   "execution_count": null,
   "metadata": {},
   "outputs": [],
   "source": [
    "elif mode == \"adaptation\":\n",
    "    def collate_wrapper(batch):\n",
    "        batch = list(zip(*batch))\n",
    "        sample = {}\n",
    "        # vis_rep_len = self.cfg.vis_rep_len\n",
    "        input_max_len = max([x.size(0) for x in batch[0]])\n",
    "        label_max_len  = max([x.size(0) for x in batch[1]])\n",
    "        seg_max_len = max([x.size(0) for x in batch[2]])\n",
    "        \n",
    "        # input id & attention mask\n",
    "        inputs_id = torch.zeros((len(batch[0]), input_max_len), dtype=torch.long)\n",
    "        attn_mask = torch.zeros((len(batch[0]), input_max_len), dtype=torch.long)\n",
    "        segment_id = torch.zeros((len(batch[2]), seg_max_len), dtype=torch.long)\n",
    "        for i, x in enumerate(batch[0]):\n",
    "            inputs_id[i,:x.size(0)] = x\n",
    "            attn_mask[i,:x.size(0)] = 1.0\n",
    "        \n",
    "        # Segment id\n",
    "        for i, x in enumerate(batch[2]):\n",
    "            segment_id[i,:x.size(0)] = x\n",
    "        \n",
    "        # label\n",
    "        label = torch.zeros((len(batch[1]), label_max_len), dtype=torch.long)\n",
    "        for i, x in enumerate(batch[1]):\n",
    "            label[i,:x.size(0)] = x\n",
    "\n",
    "        sample[\"inputs_id\"] = inputs_id\n",
    "        sample[\"attn_mask\"] = attn_mask\n",
    "        sample[\"label\"] = label\n",
    "        sample[\"img\"] = batch[3]\n",
    "\n",
    "        return sample\n"
   ]
  },
  {
   "cell_type": "code",
   "execution_count": 83,
   "metadata": {},
   "outputs": [
    {
     "data": {
      "text/plain": [
       "[(tensor([22437,   428,  1656,   284,   307,   257,  4590,   286,  3294, 32185,\n",
       "            286,   262,  2042, 38186,  6729,  3526,   263, 50256,   262,  3280,\n",
       "            318,  3763,   780,   262,   976,  6729,  3526,   263,   318,  1944,\n",
       "            867,  1661, 50256]),\n",
       "  tensor([ -100,  -100,  -100,  -100,  -100,  -100,  -100,  -100,  -100,  -100,\n",
       "           -100,  -100,  -100,  -100,  -100,  -100,  -100,  -100,  -100,  -100,\n",
       "           -100,  -100,  -100,  -100,  -100,  -100,  -100,  -100,  -100,  -100,\n",
       "           -100,  -100,  -100,  -100,   262,  3280,   318,  3763,   780,   262,\n",
       "            976,  6729,  3526,   263,   318,  1944,   867,  1661, 50256]),\n",
       "  tensor([50258, 50258, 50258, 50258, 50258, 50258, 50258, 50258, 50258, 50258,\n",
       "          50258, 50258, 50258, 50258, 50258, 50258, 50258, 50258, 50259, 50259,\n",
       "          50259, 50259, 50259, 50260, 50260, 50260, 50260, 50260, 50260, 50260,\n",
       "          50260, 50260, 50260, 50260, 50260, 50260]),\n",
       "  {'pixel_values': [array([[[-0.91917115, -0.6280504 ,  0.14256364, ...,  0.96455175,\n",
       "            0.33093593, -0.02868402],\n",
       "          [-0.7479236 , -0.42255333, -0.42255333, ...,  0.34806067,\n",
       "            0.57068247,  0.2966864 ],\n",
       "          [-0.7307989 , -0.79929787, -0.4054286 , ...,  0.57068247,\n",
       "            0.60493195, -0.14855729],\n",
       "          ...,\n",
       "          [ 1.7009162 ,  1.7522904 ,  1.7180408 , ...,  1.8721637 ,\n",
       "            1.8379141 ,  1.9406626 ],\n",
       "          [ 1.7009162 ,  1.6666666 ,  1.6666666 , ...,  1.9406626 ,\n",
       "            1.9064132 ,  1.8379141 ],\n",
       "          [ 1.6495419 ,  1.5639181 ,  1.6837914 , ...,  1.923538  ,\n",
       "            1.9064132 ,  1.7865399 ]],\n",
       "  \n",
       "         [[-0.9502801 , -0.53011197,  0.3102242 , ...,  1.1505603 ,\n",
       "            0.3802522 ,  0.03011205],\n",
       "          [-0.687675  , -0.32002798, -0.28501397, ...,  0.57282925,\n",
       "            0.71288526,  0.3802522 ],\n",
       "          [-0.617647  , -0.687675  , -0.32002798, ...,  0.7303922 ,\n",
       "            0.76540625, -0.03991595],\n",
       "          ...,\n",
       "          [ 2.0259104 ,  2.0434172 ,  2.0434172 , ...,  2.1309524 ,\n",
       "            2.1309524 ,  2.1309524 ],\n",
       "          [ 2.0609243 ,  2.0084033 ,  2.0434172 , ...,  2.1309524 ,\n",
       "            2.1484594 ,  2.0959384 ],\n",
       "          [ 2.0259104 ,  1.9383754 ,  2.0434172 , ...,  2.1134453 ,\n",
       "            2.1659663 ,  2.1484594 ]],\n",
       "  \n",
       "         [[-0.8109804 , -0.37525046,  0.46135095, ...,  1.4373858 ,\n",
       "            0.6007845 ,  0.2870589 ],\n",
       "          [-0.5844008 , -0.16610013, -0.07895417, ...,  0.7925056 ,\n",
       "            0.94936836,  0.6356429 ],\n",
       "          [-0.514684  , -0.60182995, -0.21838771, ...,  0.9667976 ,\n",
       "            0.9667976 ,  0.19991292],\n",
       "          ...,\n",
       "          [ 2.4308496 ,  2.3262744 ,  2.3785625 , ...,  2.465708  ,\n",
       "            2.4134207 ,  2.4308496 ],\n",
       "          [ 2.4482791 ,  2.3959913 ,  2.3611329 , ...,  2.4482791 ,\n",
       "            2.4308496 ,  2.4134207 ],\n",
       "          [ 2.4308496 ,  2.4482791 ,  2.465708  , ...,  2.4308496 ,\n",
       "            2.465708  ,  2.4482791 ]]], dtype=float32)]})]"
      ]
     },
     "execution_count": 83,
     "metadata": {},
     "output_type": "execute_result"
    }
   ],
   "source": [
    "datasets"
   ]
  },
  {
   "cell_type": "code",
   "execution_count": 56,
   "metadata": {},
   "outputs": [
    {
     "data": {
      "text/plain": [
       "'<|endoftext|>'"
      ]
     },
     "execution_count": 56,
     "metadata": {},
     "output_type": "execute_result"
    }
   ],
   "source": [
    "tokenizer.bos_token"
   ]
  },
  {
   "cell_type": "code",
   "execution_count": 57,
   "metadata": {},
   "outputs": [],
   "source": [
    "# paddding\n",
    "seq_len = len(student_input)\n",
    "padding_len = max_seq_length - seq_len\n",
    "student_input = student_input + ([tokenizer.pad_token] * padding_len)\n",
    "labels = labels + ([-100] * padding_len)\n",
    "segment_ids += ([e_segment_id] * padding_len)\n",
    "\n",
    "# token -> ids\n",
    "input_ids = tokenizer.convert_tokens_to_ids(student_input)\n",
    "\n",
    "input_ids = torch.tensor(input_ids, dtype=torch.long)\n",
    "\n",
    "labels = [tokenizer.convert_tokens_to_ids(t) if t!=-100 else t for t in labels]\n",
    "labels = torch.tensor(labels, dtype=torch.long)\n",
    "\n",
    "segment_ids = torch.tensor(segment_ids, dtype=torch.long)"
   ]
  },
  {
   "cell_type": "code",
   "execution_count": 62,
   "metadata": {},
   "outputs": [],
   "source": [
    "# image\n",
    "if mode==\"train\":\n",
    "    img_dir = image_dir + \"/train2014/\"\n",
    "else:\n",
    "    img_dir = image_dir + \"val2014/\"\n",
    "img = Image.open(img_dir+img_name).convert('RGB')\n",
    "img = img_transform(img)\n",
    "qid = torch.LongTensor([int(image_id)])"
   ]
  },
  {
   "cell_type": "code",
   "execution_count": 73,
   "metadata": {},
   "outputs": [],
   "source": [
    "def split_dataset(data_lst,num):\n",
    "    return [data_lst[i: i+num] for i in range(0, len(data_lst), num)]"
   ]
  },
  {
   "cell_type": "code",
   "execution_count": 74,
   "metadata": {},
   "outputs": [],
   "source": [
    "smp = [1,2,3,4,5,6,7,8,9,10,11,12,13,14,15,16]"
   ]
  },
  {
   "cell_type": "code",
   "execution_count": 76,
   "metadata": {},
   "outputs": [
    {
     "data": {
      "text/plain": [
       "[[1, 2, 3, 4, 5], [6, 7, 8, 9, 10], [11, 12, 13, 14, 15], [16]]"
      ]
     },
     "execution_count": 76,
     "metadata": {},
     "output_type": "execute_result"
    }
   ],
   "source": [
    "sample = split_dataset(smp,len(smp)//3)\n",
    "sample"
   ]
  },
  {
   "cell_type": "code",
   "execution_count": 2,
   "metadata": {},
   "outputs": [],
   "source": [
    "import json\n",
    "all_file = json.load(open(\"/media/storage/coco/VQA-X/annotated/vqaX_test.json\", 'r'))"
   ]
  },
  {
   "cell_type": "code",
   "execution_count": 8,
   "metadata": {},
   "outputs": [
    {
     "data": {
      "text/plain": [
       "{'question': 'What is this?',\n",
       " 'answers': [{'answer': 'shower', 'answer_confidence': 'yes', 'answer_id': 1},\n",
       "  {'answer': 'shower', 'answer_confidence': 'yes', 'answer_id': 2},\n",
       "  {'answer': 'shower', 'answer_confidence': 'yes', 'answer_id': 3},\n",
       "  {'answer': 'shower', 'answer_confidence': 'yes', 'answer_id': 4},\n",
       "  {'answer': 'shower', 'answer_confidence': 'maybe', 'answer_id': 5},\n",
       "  {'answer': 'shower', 'answer_confidence': 'yes', 'answer_id': 6},\n",
       "  {'answer': 'shower', 'answer_confidence': 'yes', 'answer_id': 7},\n",
       "  {'answer': 'shower', 'answer_confidence': 'yes', 'answer_id': 8},\n",
       "  {'answer': 'shower', 'answer_confidence': 'yes', 'answer_id': 9},\n",
       "  {'answer': 'shower', 'answer_confidence': 'yes', 'answer_id': 10}],\n",
       " 'image_id': '262284',\n",
       " 'image_name': 'COCO_val2014_000000262284.jpg',\n",
       " 'explanation': ['it has a shower head hanging inside of it',\n",
       "  'there is a shower head',\n",
       "  'there is a faucet and a bathtub']}"
      ]
     },
     "execution_count": 8,
     "metadata": {},
     "output_type": "execute_result"
    }
   ],
   "source": [
    "all_file[\"262284001\"]"
   ]
  },
  {
   "cell_type": "code",
   "execution_count": 10,
   "metadata": {},
   "outputs": [
    {
     "data": {
      "text/plain": [
       "[['123414']]"
      ]
     },
     "execution_count": 10,
     "metadata": {},
     "output_type": "execute_result"
    }
   ],
   "source": [
    "asdf = [\"123414\"]\n",
    "a = [asdf]\n",
    "a"
   ]
  },
  {
   "cell_type": "code",
   "execution_count": 1,
   "metadata": {},
   "outputs": [
    {
     "data": {
      "text/plain": [
       "{3, 4, 5}"
      ]
     },
     "execution_count": 1,
     "metadata": {},
     "output_type": "execute_result"
    }
   ],
   "source": [
    "a  = set([1,2,3,4,4,5])\n",
    "b= set([3,4,4,5,6])\n",
    "a&b"
   ]
  },
  {
   "cell_type": "code",
   "execution_count": null,
   "metadata": {},
   "outputs": [],
   "source": [
    "question_token = self.tokenizer.tokenize(f\"{question}\")\n",
    "answer_token = self.tokenizer.tokenize(answer)\n",
    "explanation_token = [self.tokenizer.bos_token] + self.tokenizer.tokenize(f\" because\")\n",
    "input = question_token + answer_token + explanation_token"
   ]
  },
  {
   "cell_type": "code",
   "execution_count": 3,
   "metadata": {},
   "outputs": [
    {
     "ename": "TypeError",
     "evalue": "can't convert np.ndarray of type numpy.str_. The only supported types are: float64, float32, float16, complex64, complex128, int64, int32, int16, int8, uint8, and bool.",
     "output_type": "error",
     "traceback": [
      "\u001b[0;31m---------------------------------------------------------------------------\u001b[0m",
      "\u001b[0;31mTypeError\u001b[0m                                 Traceback (most recent call last)",
      "\u001b[0;32m/tmp/ipykernel_1350/1471327376.py\u001b[0m in \u001b[0;36m<module>\u001b[0;34m\u001b[0m\n\u001b[1;32m      2\u001b[0m \u001b[0;32mimport\u001b[0m \u001b[0mnumpy\u001b[0m \u001b[0;32mas\u001b[0m \u001b[0mnp\u001b[0m\u001b[0;34m\u001b[0m\u001b[0;34m\u001b[0m\u001b[0m\n\u001b[1;32m      3\u001b[0m \u001b[0msample\u001b[0m \u001b[0;34m=\u001b[0m \u001b[0mnp\u001b[0m\u001b[0;34m.\u001b[0m\u001b[0marray\u001b[0m\u001b[0;34m(\u001b[0m\u001b[0;34m\"asdfasdfdasfsdfsdfdasfa\"\u001b[0m\u001b[0;34m)\u001b[0m\u001b[0;34m\u001b[0m\u001b[0;34m\u001b[0m\u001b[0m\n\u001b[0;32m----> 4\u001b[0;31m \u001b[0mtorch\u001b[0m\u001b[0;34m.\u001b[0m\u001b[0mTensor\u001b[0m\u001b[0;34m(\u001b[0m\u001b[0msample\u001b[0m\u001b[0;34m)\u001b[0m\u001b[0;34m\u001b[0m\u001b[0;34m\u001b[0m\u001b[0m\n\u001b[0m",
      "\u001b[0;31mTypeError\u001b[0m: can't convert np.ndarray of type numpy.str_. The only supported types are: float64, float32, float16, complex64, complex128, int64, int32, int16, int8, uint8, and bool."
     ]
    }
   ],
   "source": [
    "import torch\n",
    "import numpy as np\n",
    "sample = np.array(\"asdfasdfdasfsdfsdfdasfa\")\n",
    "torch.Tensor(sample)"
   ]
  }
 ],
 "metadata": {
  "kernelspec": {
   "display_name": "Python 3.7.13 ('nlxgpt')",
   "language": "python",
   "name": "python3"
  },
  "language_info": {
   "codemirror_mode": {
    "name": "ipython",
    "version": 3
   },
   "file_extension": ".py",
   "mimetype": "text/x-python",
   "name": "python",
   "nbconvert_exporter": "python",
   "pygments_lexer": "ipython3",
   "version": "3.7.13"
  },
  "orig_nbformat": 4,
  "vscode": {
   "interpreter": {
    "hash": "77e4e9272f0e5f64b092027b808581d786ee3bc643e67423794d3622b200f576"
   }
  }
 },
 "nbformat": 4,
 "nbformat_minor": 2
}
